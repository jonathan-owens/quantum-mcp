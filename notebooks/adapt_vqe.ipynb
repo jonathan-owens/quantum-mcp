{
 "cells": [
  {
   "cell_type": "code",
   "id": "initial_id",
   "metadata": {
    "collapsed": true,
    "ExecuteTime": {
     "end_time": "2025-07-16T12:43:08.573346Z",
     "start_time": "2025-07-16T12:43:08.140703Z"
    }
   },
   "source": "from quantum_mcp.preprocess import MolecularHamiltonian",
   "outputs": [],
   "execution_count": 1
  },
  {
   "metadata": {
    "ExecuteTime": {
     "end_time": "2025-07-16T12:47:08.639337Z",
     "start_time": "2025-07-16T12:47:08.407892Z"
    }
   },
   "cell_type": "code",
   "source": [
    "xyz_fpath = 'h2.xyz'\n",
    "molecular_data = MolecularHamiltonian(xyz_fpath, 'sto3g')\n",
    "\n",
    "molecular_data.run_ccsd()\n",
    "molecular_data.compute_obi_and_tbi()"
   ],
   "id": "6919b5aa3b936d27",
   "outputs": [
    {
     "name": "stdout",
     "output_type": "stream",
     "text": [
      "overwrite output file: h2-pyscf.log\n",
      "[QC_MCP] == Running HF ==\n",
      "[QC_MCP] Total number of orbitals = 2\n",
      "[QC_MCP] Total number of electrons = (1, 1)\n",
      "[QC_MCP] E[HF] = -1.116325564486115\n",
      "[QC_MCP] == Running R-CCSD ==\n",
      "[QC_MCP] E[R-CCSD] = -1.1371758844013344\n",
      "[QC_MCP] Computing the one- and two-electron integrals\n",
      "[QC_MCP] Using one- and two-body integrals from HF in the MO basis\n",
      "[QC_MCP] Generated the restricted molecular spin Hamiltonian\n",
      "0.7080240981000804\n"
     ]
    }
   ],
   "execution_count": 4
  },
  {
   "metadata": {},
   "cell_type": "code",
   "outputs": [],
   "execution_count": null,
   "source": "",
   "id": "b97120c4a86bda9d"
  }
 ],
 "metadata": {
  "kernelspec": {
   "display_name": "Python 3",
   "language": "python",
   "name": "python3"
  },
  "language_info": {
   "codemirror_mode": {
    "name": "ipython",
    "version": 2
   },
   "file_extension": ".py",
   "mimetype": "text/x-python",
   "name": "python",
   "nbconvert_exporter": "python",
   "pygments_lexer": "ipython2",
   "version": "2.7.6"
  }
 },
 "nbformat": 4,
 "nbformat_minor": 5
}
